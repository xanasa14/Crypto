{
  "nbformat": 4,
  "nbformat_minor": 0,
  "metadata": {
    "colab": {
      "name": "Bitcoin_predictor2.ipynb",
      "provenance": [],
      "authorship_tag": "ABX9TyNsHTVIH7RtV5qIHBGqqxp2",
      "include_colab_link": true
    },
    "kernelspec": {
      "name": "python3",
      "display_name": "Python 3"
    },
    "language_info": {
      "name": "python"
    }
  },
  "cells": [
    {
      "cell_type": "markdown",
      "metadata": {
        "id": "view-in-github",
        "colab_type": "text"
      },
      "source": [
        "<a href=\"https://colab.research.google.com/github/xanasa14/Crypto/blob/main/Bitcoin_predictor2.ipynb\" target=\"_parent\"><img src=\"https://colab.research.google.com/assets/colab-badge.svg\" alt=\"Open In Colab\"/></a>"
      ]
    },
    {
      "cell_type": "markdown",
      "metadata": {
        "id": "d1TskXTVTZ9H"
      },
      "source": [
        "Welcome to Sentiment Analisys "
      ]
    },
    {
      "cell_type": "code",
      "metadata": {
        "id": "uq16oCDzTZcC"
      },
      "source": [
        "# Import libraries\n",
        "from urllib.request import urlopen, Request\n",
        "from bs4 import BeautifulSoup\n",
        "import os\n",
        "import pandas as pd\n",
        "import matplotlib.pyplot as plt\n",
        "%matplotlib inline\n",
        "# NLTK VADER for sentiment analysis\n",
        "from nltk.sentiment.vader import SentimentIntensityAnalyzer\n",
        "\n",
        "finwiz_url = 'https://finviz.com/quote.ashx?t='"
      ],
      "execution_count": 14,
      "outputs": []
    },
    {
      "cell_type": "markdown",
      "metadata": {
        "id": "kv7VE9mVTWca"
      },
      "source": [
        ""
      ]
    },
    {
      "cell_type": "code",
      "metadata": {
        "id": "-njpa-IxR27Q"
      },
      "source": [
        "tickers = ['COIN']\n",
        "news_tables = {}\n",
        "\n",
        "for ticker in tickers:\n",
        "  url = finwiz_url + ticker\n",
        "  req = Request(url=url,headers={'user-agent': 'my-app/0.0.1'}) \n",
        "  response = urlopen(req)    \n",
        "  # Read the contents of the file into 'html'\n",
        "  html = BeautifulSoup(response)\n",
        "  # Find 'news-table' in the Soup and load it into 'news_table'\n",
        "  news_table = html.find(id='news-table')\n",
        "  # Add the table to our dictionary\n",
        "  news_tables[ticker] = news_table\n"
      ],
      "execution_count": 15,
      "outputs": []
    },
    {
      "cell_type": "code",
      "metadata": {
        "colab": {
          "base_uri": "https://localhost:8080/"
        },
        "id": "5BfDoazTR5u3",
        "outputId": "e59df466-e109-45c0-80ed-3c70ee1ad277"
      },
      "source": [
        "# Read one single day of headlines for 'AMZN' \n",
        "amzn = news_tables['COIN']\n",
        "# Get all the table rows tagged in HTML with <tr> into 'amzn_tr'\n",
        "amzn_tr = amzn.findAll('tr')\n",
        "\n",
        "for i, table_row in enumerate(amzn_tr):\n",
        "    # Read the text of the element 'a' into 'link_text'\n",
        "    a_text = table_row.a.text\n",
        "    # Read the text of the element 'td' into 'data_text'\n",
        "    td_text = table_row.td.text\n",
        "    # Print the contents of 'link_text' and 'data_text' \n",
        "    print(a_text)\n",
        "    print(td_text)\n",
        "    # Exit after printing 4 rows of data\n",
        "    if i == 3:\n",
        "        break"
      ],
      "execution_count": 16,
      "outputs": [
        {
          "output_type": "stream",
          "text": [
            "ARK Invest Stocks To Buy And Watch: 6 Stocks That Cathie Wood's ARK ETFs Own; Coinbase, Square, Tesla Race Higher\n",
            "Jun-14-21 04:44PM  \n",
            "Is Coinbase Stock A Buy Right Now As Bitcoin Surges Above $41,000?\n",
            "04:42PM  \n",
            "This Small 401(k) Provider and Coinbase Will Offer Cryptocurrencies in Retirement Plans. What to Know.\n",
            "04:37PM  \n",
            "What you need to know to start investing in cryptocurrency right now\n",
            "11:05AM  \n"
          ],
          "name": "stdout"
        }
      ]
    },
    {
      "cell_type": "code",
      "metadata": {
        "id": "V3uwu38ET4Jt"
      },
      "source": [
        ""
      ],
      "execution_count": null,
      "outputs": []
    }
  ]
}