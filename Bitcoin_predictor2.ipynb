{
  "nbformat": 4,
  "nbformat_minor": 0,
  "metadata": {
    "colab": {
      "name": "Bitcoin_predictor2.ipynb",
      "provenance": [],
      "authorship_tag": "ABX9TyM5pz0aOaWH4MGtgij7YyQ7",
      "include_colab_link": true
    },
    "kernelspec": {
      "name": "python3",
      "display_name": "Python 3"
    },
    "language_info": {
      "name": "python"
    }
  },
  "cells": [
    {
      "cell_type": "markdown",
      "metadata": {
        "id": "view-in-github",
        "colab_type": "text"
      },
      "source": [
        "<a href=\"https://colab.research.google.com/github/xanasa14/Crypto/blob/main/Bitcoin_predictor2.ipynb\" target=\"_parent\"><img src=\"https://colab.research.google.com/assets/colab-badge.svg\" alt=\"Open In Colab\"/></a>"
      ]
    },
    {
      "cell_type": "markdown",
      "metadata": {
        "id": "d1TskXTVTZ9H"
      },
      "source": [
        "Welcome to Sentiment Analisys "
      ]
    },
    {
      "cell_type": "code",
      "metadata": {
        "id": "uq16oCDzTZcC"
      },
      "source": [
        "# Import libraries\n",
        "from urllib.request import urlopen, Request\n",
        "from bs4 import BeautifulSoup\n",
        "import os\n",
        "import pandas as pd\n",
        "import matplotlib.pyplot as plt\n",
        "%matplotlib inline\n",
        "# NLTK VADER for sentiment analysis\n",
        "from nltk.sentiment.vader import SentimentIntensityAnalyzer\n",
        "\n",
        "finwiz_url = 'https://finviz.com/quote.ashx?t='"
      ],
      "execution_count": 14,
      "outputs": []
    },
    {
      "cell_type": "markdown",
      "metadata": {
        "id": "kv7VE9mVTWca"
      },
      "source": [
        ""
      ]
    },
    {
      "cell_type": "code",
      "metadata": {
        "id": "-njpa-IxR27Q"
      },
      "source": [
        "tickers = ['COIN']\n",
        "news_tables = {}\n",
        "\n",
        "for ticker in tickers:\n",
        "  url = finwiz_url + ticker\n",
        "  req = Request(url=url,headers={'user-agent': 'my-app/0.0.1'}) \n",
        "  response = urlopen(req)    \n",
        "  # Read the contents of the file into 'html'\n",
        "  html = BeautifulSoup(response)\n",
        "  # Find 'news-table' in the Soup and load it into 'news_table'\n",
        "  news_table = html.find(id='news-table')\n",
        "  # Add the table to our dictionary\n",
        "  news_tables[ticker] = news_table\n"
      ],
      "execution_count": 15,
      "outputs": []
    },
    {
      "cell_type": "code",
      "metadata": {
        "id": "5BfDoazTR5u3"
      },
      "source": [
        ""
      ],
      "execution_count": null,
      "outputs": []
    }
  ]
}